{
 "cells": [
  {
   "cell_type": "markdown",
   "metadata": {},
   "source": [
    "Tanken med detta Lab är att jag ska jämföra och visa statiskik över kaffekonsumtionen bland kodare, \n",
    "och delvis visa hur konsumtionen ser ut"
   ]
  },
  {
   "cell_type": "code",
   "execution_count": 2,
   "metadata": {},
   "outputs": [],
   "source": [
    "import pandas as pd"
   ]
  },
  {
   "cell_type": "code",
   "execution_count": 7,
   "metadata": {},
   "outputs": [],
   "source": [
    "coffeeData = pd.read_csv('../data/CoffeeAndCodeLT2018_CoffeeAndCodeLT2018.csv')"
   ]
  },
  {
   "cell_type": "code",
   "execution_count": 11,
   "metadata": {},
   "outputs": [
    {
     "data": {
      "text/plain": [
       "CodingHours            100\n",
       "CoffeeCupsPerDay       100\n",
       "CoffeeTime             100\n",
       "CodingWithoutCoffee    100\n",
       "CoffeeType             100\n",
       "CoffeeSolveBugs        100\n",
       "Gender                 100\n",
       "Country                100\n",
       "AgeRange               100\n",
       "dtype: int64"
      ]
     },
     "execution_count": 11,
     "metadata": {},
     "output_type": "execute_result"
    }
   ],
   "source": [
    "coffeeData.notnull().count()"
   ]
  },
  {
   "cell_type": "code",
   "execution_count": 17,
   "metadata": {},
   "outputs": [
    {
     "data": {
      "text/plain": [
       "Index(['CodingHours', 'CoffeeCupsPerDay', 'CoffeeTime', 'CodingWithoutCoffee',\n",
       "       'CoffeeType', 'CoffeeSolveBugs', 'Gender', 'Country', 'AgeRange'],\n",
       "      dtype='object')"
      ]
     },
     "execution_count": 17,
     "metadata": {},
     "output_type": "execute_result"
    }
   ],
   "source": [
    "coffeeData.columns"
   ]
  },
  {
   "cell_type": "code",
   "execution_count": 18,
   "metadata": {},
   "outputs": [
    {
     "data": {
      "text/plain": [
       "(100, 9)"
      ]
     },
     "execution_count": 18,
     "metadata": {},
     "output_type": "execute_result"
    }
   ],
   "source": [
    "coffeeData.shape"
   ]
  },
  {
   "cell_type": "code",
   "execution_count": 26,
   "metadata": {},
   "outputs": [
    {
     "data": {
      "text/plain": [
       "CodingHours            100\n",
       "CoffeeCupsPerDay       100\n",
       "CoffeeTime             100\n",
       "CodingWithoutCoffee    100\n",
       "CoffeeType             100\n",
       "CoffeeSolveBugs        100\n",
       "Gender                 100\n",
       "Country                100\n",
       "AgeRange               100\n",
       "dtype: int64"
      ]
     },
     "execution_count": 26,
     "metadata": {},
     "output_type": "execute_result"
    }
   ],
   "source": [
    "coffeeData.isnull()"
   ]
  },
  {
   "cell_type": "code",
   "execution_count": 16,
   "metadata": {},
   "outputs": [
    {
     "data": {
      "text/plain": [
       "<bound method NDFrame.head of     CodingHours  CoffeeCupsPerDay     CoffeeTime CodingWithoutCoffee  \\\n",
       "0             8                 2  Before coding                 Yes   \n",
       "1             3                 2  Before coding                 Yes   \n",
       "2             5                 3   While coding                  No   \n",
       "3             8                 2  Before coding                  No   \n",
       "4            10                 3   While coding           Sometimes   \n",
       "..          ...               ...            ...                 ...   \n",
       "95            6                 2  Before coding                 Yes   \n",
       "96            4                 1  Before coding           Sometimes   \n",
       "97           10                 3  Before coding                 Yes   \n",
       "98            2                 2   While coding           Sometimes   \n",
       "99           10                 4  Before coding           Sometimes   \n",
       "\n",
       "                  CoffeeType CoffeeSolveBugs  Gender  Country  AgeRange  \n",
       "0                Caffè latte       Sometimes  Female  Lebanon  18 to 29  \n",
       "1                  Americano             Yes  Female  Lebanon  30 to 39  \n",
       "2                    Nescafe             Yes  Female  Lebanon  18 to 29  \n",
       "3                    Nescafe             Yes    Male  Lebanon       NaN  \n",
       "4                    Turkish              No    Male  Lebanon  18 to 29  \n",
       "..                       ...             ...     ...      ...       ...  \n",
       "95                   Nescafe             Yes    Male  Lebanon  18 to 29  \n",
       "96                   Nescafe       Sometimes  Female  Lebanon  18 to 29  \n",
       "97                Cappuccino             Yes    Male  Lebanon  Under 18  \n",
       "98    Espresso (Short Black)       Sometimes  Female  Lebanon  18 to 29  \n",
       "99  Double Espresso (Doppio)       Sometimes    Male  Lebanon  18 to 29  \n",
       "\n",
       "[100 rows x 9 columns]>"
      ]
     },
     "execution_count": 16,
     "metadata": {},
     "output_type": "execute_result"
    }
   ],
   "source": [
    "coffeeData.head"
   ]
  },
  {
   "cell_type": "code",
   "execution_count": 28,
   "metadata": {},
   "outputs": [
    {
     "data": {
      "text/plain": [
       "<AxesSubplot: >"
      ]
     },
     "execution_count": 28,
     "metadata": {},
     "output_type": "execute_result"
    },
    {
     "data": {
      "image/png": "[encoded data removed]",
      "text/plain": [
       "<Figure size 640x480 with 1 Axes>"
      ]
     },
     "metadata": {},
     "output_type": "display_data"
    }
   ],
   "source": [
    "coffeeData.plot.bar()"
   ]
  },
  {
   "cell_type": "code",
   "execution_count": 31,
   "metadata": {},
   "outputs": [],
   "source": [
    "import matplotlib.pyplot as plt"
   ]
  }
 ],
 "metadata": {
  "kernelspec": {
   "display_name": "Python 3.10.8 64-bit",
   "language": "python",
   "name": "python3"
  },
  "language_info": {
   "codemirror_mode": {
    "name": "ipython",
    "version": 3
   },
   "file_extension": ".py",
   "mimetype": "text/x-python",
   "name": "python",
   "nbconvert_exporter": "python",
   "pygments_lexer": "ipython3",
   "version": "3.10.8"
  },
  "orig_nbformat": 4,
  "vscode": {
   "interpreter": {
    "hash": "c6dc7db6e986e8b90ed4be5bee4794d9e1585055375cb0fe0f76777a0105364a"
   }
  }
 },
 "nbformat": 4,
 "nbformat_minor": 2
}
